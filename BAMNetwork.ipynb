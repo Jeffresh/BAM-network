{
 "cells": [
  {
   "cell_type": "markdown",
   "metadata": {},
   "source": [
    "# BAM Networks"
   ]
  },
  {
   "cell_type": "code",
   "execution_count": 1,
   "metadata": {},
   "outputs": [
    {
     "name": "stdout",
     "output_type": "stream",
     "text": [
      "warning: function pattern\\scatter.m shadows a core library function\n"
     ]
    }
   ],
   "source": [
    "clear all, close all, clc\n",
    "addpath(\"pattern\")\n",
    "pkg load image"
   ]
  },
  {
   "cell_type": "code",
   "execution_count": 2,
   "metadata": {},
   "outputs": [],
   "source": [
    "function W = encode(X,Y) \n",
    "    n_patterns = size(X,1)\n",
    "    W=zeros(size(X,2), size(Y,2));\n",
    "    for i=1:n_patterns\n",
    "        W=W+(X(i,:)'*Y(i,:));\n",
    "    end\n",
    "    \n",
    "    W = W./n_patterns;\n",
    "end"
   ]
  },
  {
   "cell_type": "code",
   "execution_count": 3,
   "metadata": {},
   "outputs": [],
   "source": [
    "function Y = decode(X,Y,W)\n",
    "    Y=feval('tanh',X*W);\n",
    "    X=feval('tanh',Y*W');   \n",
    "    Y2=[];\n",
    "    while ~isequal(Y,Y2)\n",
    "        Y=Y2;\n",
    "        Y2=feval('tanh',X*W);\n",
    "        X=feval('tanh',Y2*W');\n",
    "    end\n",
    "end"
   ]
  },
  {
   "cell_type": "markdown",
   "metadata": {},
   "source": [
    "## Get data"
   ]
  },
  {
   "cell_type": "code",
   "execution_count": 4,
   "metadata": {},
   "outputs": [
    {
     "name": "stdout",
     "output_type": "stream",
     "text": [
      "height =  20\n",
      "width =  18\n"
     ]
    },
    {
     "data": {
      "image/png": "[encoded data removed]",
      "text/plain": [
       "<IPython.core.display.Image object>"
      ]
     },
     "metadata": {},
     "output_type": "display_data"
    }
   ],
   "source": [
    "numbers = ['1', '2', '3'];\n",
    "n_numbers = length(numbers);\n",
    "\n",
    "for i=1:n_numbers\n",
    "    p{i} = text2im(numbers(i));\n",
    "end\n",
    "\n",
    "figure;\n",
    "for i=1:n_numbers\n",
    "    subplot(1,3,i),imagesc(p{i});\n",
    "end\n",
    "\n",
    "[height, width] = size(p{1})"
   ]
  },
  {
   "cell_type": "markdown",
   "metadata": {},
   "source": [
    "## Create Dataset"
   ]
  },
  {
   "cell_type": "code",
   "execution_count": 51,
   "metadata": {},
   "outputs": [],
   "source": [
    "X = zeros(n_numbers, height * width);\n",
    "\n",
    "for i=1:n_numbers\n",
    "    X(i,:) = p{i}(:)';\n",
    "end\n",
    "\n",
    "# change values to interval [-1, 1]\n",
    "X = 2 * X - 1;\n",
    "\n",
    "# Binary representation of 1, 2 3\n",
    "Y=[-1 -1 1; -1 1 -1; 1 1 -1];"
   ]
  },
  {
   "cell_type": "code",
   "execution_count": 52,
   "metadata": {},
   "outputs": [
    {
     "name": "stdout",
     "output_type": "stream",
     "text": [
      "n_patterns =  3\n"
     ]
    }
   ],
   "source": [
    "%Calculo de W.\n",
    "W = encode(X, Y);"
   ]
  },
  {
   "cell_type": "code",
   "execution_count": 49,
   "metadata": {},
   "outputs": [
    {
     "data": {
      "image/png": "[encoded data removed]",
      "text/plain": [
       "<IPython.core.display.Image object>"
      ]
     },
     "metadata": {},
     "output_type": "display_data"
    }
   ],
   "source": [
    "for i=1: n_numbers\n",
    "    p_salt_pepper{i} = imnoise(p{i}, 'salt & pepper', 0.2);\n",
    "end\n",
    "\n",
    "figure;\n",
    "for i=1:n_numbers\n",
    "    subplot(1,3,i),imagesc(p_salt_pepper{i});\n",
    "end"
   ]
  },
  {
   "cell_type": "code",
   "execution_count": 53,
   "metadata": {},
   "outputs": [
    {
     "name": "stdout",
     "output_type": "stream",
     "text": [
      "Y_predict =\n",
      "\n",
      "  -1  -1   1\n",
      "  -1   1  -1\n",
      "   1   1  -1\n",
      "\n",
      "Y =\n",
      "\n",
      "  -1  -1   1\n",
      "  -1   1  -1\n",
      "   1   1  -1\n",
      "\n"
     ]
    }
   ],
   "source": [
    "for i=1:n_numbers\n",
    "    X_noise(i,:) = p_salt_pepper{i}(:)';\n",
    "end\n",
    "\n",
    "# change values to interval [-1, 1]\n",
    "X_noise = 2 * X_noise - 1;\n",
    "Y_predict = decode(X_noise,Y,W)\n",
    "Y"
   ]
  }
 ],
 "metadata": {
  "kernelspec": {
   "display_name": "Octave",
   "language": "octave",
   "name": "octave"
  },
  "language_info": {
   "file_extension": ".m",
   "help_links": [
    {
     "text": "GNU Octave",
     "url": "https://www.gnu.org/software/octave/support.html"
    },
    {
     "text": "Octave Kernel",
     "url": "https://github.com/Calysto/octave_kernel"
    },
    {
     "text": "MetaKernel Magics",
     "url": "https://metakernel.readthedocs.io/en/latest/source/README.html"
    }
   ],
   "mimetype": "text/x-octave",
   "name": "octave",
   "version": "5.2.0"
  }
 },
 "nbformat": 4,
 "nbformat_minor": 4
}
