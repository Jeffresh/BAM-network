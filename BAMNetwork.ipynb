{
 "cells": [
  {
   "cell_type": "markdown",
   "metadata": {},
   "source": [
    "# BAM Networks"
   ]
  },
  {
   "cell_type": "code",
   "execution_count": 11,
   "metadata": {},
   "outputs": [],
   "source": [
    "function [W]=calcW(X,Y)    \n",
    "    W=zeros(length(X(:,1)),length(Y(:,1)));\n",
    "    for i=1:length(X(1,:))\n",
    "        W=W+(X(:,i)*Y(:,i)');\n",
    "    end\n",
    "end"
   ]
  },
  {
   "cell_type": "code",
   "execution_count": 12,
   "metadata": {},
   "outputs": [],
   "source": [
    "function [Y]=compute(X,Y,W,n,fil,col)\n",
    "    Y=feval('tanh',X*W);\n",
    "    X=feval('tanh',Y*W');   \n",
    "    subplot(fil,col,n),imshow(Y),pause(0.1);\n",
    "    Y2=[];\n",
    "    while ~isequal(Y,Y2)\n",
    "        Y=Y2;\n",
    "        Y2=feval('tanh',X*W);\n",
    "        X=feval('tanh',Y2*W');\n",
    "        subplot(fil,col,n),imshow(Y2),pause(0.1);\n",
    "    end\n",
    "end"
   ]
  },
  {
   "cell_type": "code",
   "execution_count": 14,
   "metadata": {},
   "outputs": [
    {
     "data": {
      "image/png": "[encoded data removed]",
      "text/plain": [
       "<IPython.core.display.Image object>"
      ]
     },
     "metadata": {},
     "output_type": "display_data"
    },
    {
     "data": {
      "image/png": "[encoded data removed]",
      "text/plain": [
       "<IPython.core.display.Image object>"
      ]
     },
     "metadata": {},
     "output_type": "display_data"
    }
   ],
   "source": [
    "close all; clc;\n",
    "addpath(\"pattern\")\n",
    "pkg load image\n",
    "\n",
    "p1=text2im('T');\n",
    "p2=text2im('A');\n",
    "p3=text2im('S');\n",
    "\n",
    "xx=20;\n",
    "yy=18;\n",
    "\n",
    "figure;\n",
    "subplot(8,3,1),imshow(p1);\n",
    "subplot(8,3,2),imshow(p2);\n",
    "subplot(8,3,3),imshow(p3);\n",
    "\n",
    "pp1=p1;\n",
    "pp2=p2;\n",
    "pp3=p3;\n",
    "\n",
    "p1=pp1(:)';\n",
    "p2=pp2(:)';\n",
    "p3=pp3(:)';\n",
    "\n",
    "X=[p1;p2;p3];\n",
    "X=2*X-1;\n",
    "\n",
    "%Y.\n",
    "Y=[1 1;1,-1;-1,-1];\n",
    "figure,\n",
    "subplot(8,3,4),imshow(Y(1,:)),\n",
    "subplot(8,3,5),imshow(Y(2,:));\n",
    "subplot(8,3,6),imshow(Y(3,:));\n",
    "\n",
    "%Calculo de W.\n",
    "[W]=calcW(X',Y');\n",
    "\n",
    "p11=imnoise(pp1,'salt & pepper',0.15);\n",
    "p12=imnoise(pp1,'salt & pepper',0.40);\n",
    "p13=imnoise(pp1,'gaussian',0.15);\n",
    "p14=imnoise(pp1,'gaussian',0.40);\n",
    "p15=imnoise(pp1,'speckle',0.40);\n",
    "p16=imnoise(pp1,'speckle',0.80);\n",
    "\n",
    "p21=imnoise(pp2,'salt & pepper',0.15);\n",
    "p22=imnoise(pp2,'salt & pepper',0.40);\n",
    "p23=imnoise(pp2,'gaussian',0.15);\n",
    "p24=imnoise(pp2,'gaussian',0.40);\n",
    "p25=imnoise(pp2,'speckle',0.40);\n",
    "p26=imnoise(pp2,'speckle',0.80);\n",
    "\n",
    "p31=imnoise(pp3,'salt & pepper',0.15);\n",
    "p32=imnoise(pp3,'salt & pepper',0.40);\n",
    "p33=imnoise(pp3,'gaussian',0.15);\n",
    "p34=imnoise(pp3,'gaussian',0.40);\n",
    "p35=imnoise(pp3,'speckle',0.40);\n",
    "p36=imnoise(pp3,'speckle',0.80);\n",
    "\n",
    "p11=p11(:)';\n",
    "p12=p12(:)';\n",
    "p13=p13(:)';\n",
    "p14=p14(:)';\n",
    "p15=p15(:)';\n",
    "p16=p16(:)';\n",
    "p21=p21(:)';\n",
    "p22=p22(:)';\n",
    "p23=p23(:)';\n",
    "p24=p24(:)';\n",
    "p25=p25(:)';\n",
    "p26=p26(:)';\n",
    "p31=p31(:)';\n",
    "p32=p32(:)';\n",
    "p33=p33(:)';\n",
    "p34=p34(:)';\n",
    "p35=p35(:)';\n",
    "p36=p36(:)';\n",
    "\n",
    "subplot(8,3,7),imshow(reshape(p11,xx,yy));\n",
    "compute(p11,Y,W,7,8,3);\n",
    "\n",
    "subplot(8,3,10),imshow(reshape(p12,xx,yy));\n",
    "compute(p12,Y,W,10,8,3);\n",
    "\n",
    "subplot(8,3,13),imshow(reshape(p13,xx,yy));\n",
    "compute(p13,Y,W,13,8,3);\n",
    "\n",
    "subplot(8,3,16),imshow(reshape(p14,xx,yy));\n",
    "compute(p14,Y,W,16,8,3);\n",
    "\n",
    "subplot(8,3,19),imshow(reshape(p15,xx,yy));\n",
    "compute(p15,Y,W,19,8,3);\n",
    "\n",
    "subplot(8,3,22),imshow(reshape(p16,xx,yy));\n",
    "compute(p16,Y,W,22,8,3);\n",
    "\n",
    "subplot(8,3,8),imshow(reshape(p21,xx,yy));\n",
    "compute(p21,Y,W,8,8,3);\n",
    "\n",
    "subplot(8,3,11),imshow(reshape(p22,xx,yy));\n",
    "compute(p22,Y,W,11,8,3);\n",
    "\n",
    "subplot(8,3,14),imshow(reshape(p23,xx,yy));\n",
    "compute(p23,Y,W,14,8,3);\n",
    "\n",
    "subplot(8,3,17),imshow(reshape(p24,xx,yy));\n",
    "compute(p24,Y,W,17,8,3);\n",
    "\n",
    "subplot(8,3,20),imshow(reshape(p25,xx,yy));\n",
    "compute(p25,Y,W,20,8,3);\n",
    "\n",
    "subplot(8,3,23),imshow(reshape(p26,xx,yy));\n",
    "compute(p26,Y,W,23,8,3);\n",
    "\n",
    "subplot(8,3,9),imshow(reshape(p31,xx,yy));\n",
    "compute(p31,Y,W,9,8,3);\n",
    "\n",
    "subplot(8,3,12),imshow(reshape(p32,xx,yy));\n",
    "compute(p32,Y,W,12,8,3);\n",
    "\n",
    "subplot(8,3,15),imshow(reshape(p33,xx,yy));\n",
    "compute(p33,Y,W,15,8,3);\n",
    "\n",
    "subplot(8,3,18),imshow(reshape(p34,xx,yy));\n",
    "compute(p34,Y,W,18,8,3);\n",
    "\n",
    "subplot(8,3,21),imshow(reshape(p35,xx,yy));\n",
    "compute(p35,Y,W,21,8,3);\n",
    "\n",
    "subplot(8,3,24),imshow(reshape(p36,xx,yy));\n",
    "compute(p36,Y,W,24,8,3);"
   ]
  },
  {
   "cell_type": "code",
   "execution_count": null,
   "metadata": {},
   "outputs": [],
   "source": []
  }
 ],
 "metadata": {
  "kernelspec": {
   "display_name": "Octave",
   "language": "octave",
   "name": "octave"
  },
  "language_info": {
   "file_extension": ".m",
   "help_links": [
    {
     "text": "GNU Octave",
     "url": "https://www.gnu.org/software/octave/support.html"
    },
    {
     "text": "Octave Kernel",
     "url": "https://github.com/Calysto/octave_kernel"
    },
    {
     "text": "MetaKernel Magics",
     "url": "https://metakernel.readthedocs.io/en/latest/source/README.html"
    }
   ],
   "mimetype": "text/x-octave",
   "name": "octave",
   "version": "5.2.0"
  }
 },
 "nbformat": 4,
 "nbformat_minor": 4
}
